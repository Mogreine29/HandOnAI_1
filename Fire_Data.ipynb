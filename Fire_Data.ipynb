{
  "cells": [
    {
      "cell_type": "markdown",
      "metadata": {
        "id": "view-in-github",
        "colab_type": "text"
      },
      "source": [
        "<a href=\"https://colab.research.google.com/github/ValentinCord/HandOnAI_1/blob/main/Fire_Data_Cleaner.ipynb\" target=\"_parent\"><img src=\"https://colab.research.google.com/assets/colab-badge.svg\" alt=\"Open In Colab\"/></a>"
      ]
    },
    {
      "cell_type": "markdown",
      "source": [
        "# **I. Reading data**"
      ],
      "metadata": {
        "id": "l9_0DeUO-zRu"
      }
    },
    {
      "cell_type": "code",
      "execution_count": 1,
      "metadata": {
        "id": "_UEjh8Rulquq",
        "outputId": "f8d1b485-79a1-4142-da5b-beee14aeab03",
        "colab": {
          "base_uri": "https://localhost:8080/"
        }
      },
      "outputs": [
        {
          "output_type": "stream",
          "name": "stdout",
          "text": [
            "Tue Nov  1 08:39:09 2022       \n",
            "+-----------------------------------------------------------------------------+\n",
            "| NVIDIA-SMI 460.32.03    Driver Version: 460.32.03    CUDA Version: 11.2     |\n",
            "|-------------------------------+----------------------+----------------------+\n",
            "| GPU  Name        Persistence-M| Bus-Id        Disp.A | Volatile Uncorr. ECC |\n",
            "| Fan  Temp  Perf  Pwr:Usage/Cap|         Memory-Usage | GPU-Util  Compute M. |\n",
            "|                               |                      |               MIG M. |\n",
            "|===============================+======================+======================|\n",
            "|   0  Tesla T4            Off  | 00000000:00:04.0 Off |                    0 |\n",
            "| N/A   56C    P8    12W /  70W |      0MiB / 15109MiB |      0%      Default |\n",
            "|                               |                      |                  N/A |\n",
            "+-------------------------------+----------------------+----------------------+\n",
            "                                                                               \n",
            "+-----------------------------------------------------------------------------+\n",
            "| Processes:                                                                  |\n",
            "|  GPU   GI   CI        PID   Type   Process name                  GPU Memory |\n",
            "|        ID   ID                                                   Usage      |\n",
            "|=============================================================================|\n",
            "|  No running processes found                                                 |\n",
            "+-----------------------------------------------------------------------------+\n"
          ]
        }
      ],
      "source": [
        "!/opt/bin/nvidia-smi\n",
        "!rm -rf sample_data"
      ]
    },
    {
      "cell_type": "code",
      "source": [
        "import os"
      ],
      "metadata": {
        "id": "DZTW2IXg-rvy"
      },
      "execution_count": 2,
      "outputs": []
    },
    {
      "cell_type": "code",
      "execution_count": 3,
      "metadata": {
        "id": "1CwAmMbqmGhW"
      },
      "outputs": [],
      "source": [
        "bases_path_after=\"bases\"\n",
        "if os.path.exists(bases_path_after) == False:\n",
        "    os.makedirs(bases_path_after)"
      ]
    },
    {
      "cell_type": "code",
      "execution_count": 4,
      "metadata": {
        "id": "9zdwkyRtmnN-",
        "outputId": "bdc14d39-ae4c-4b2a-e42e-523ba40f418c",
        "colab": {
          "base_uri": "https://localhost:8080/"
        }
      },
      "outputs": [
        {
          "output_type": "stream",
          "name": "stdout",
          "text": [
            "--2022-11-01 08:39:20--  https://cluster.ig.umons.ac.be/HackIA21/databases/FIRE_DATABASE_1.tar\n",
            "Resolving cluster.ig.umons.ac.be (cluster.ig.umons.ac.be)... 193.190.209.220\n",
            "Connecting to cluster.ig.umons.ac.be (cluster.ig.umons.ac.be)|193.190.209.220|:443... connected.\n",
            "HTTP request sent, awaiting response... 200 OK\n",
            "Length: 466772992 (445M) [application/octet-stream]\n",
            "Saving to: ‘FIRE_DATABASE_1.tar’\n",
            "\n",
            "FIRE_DATABASE_1.tar 100%[===================>] 445.15M  65.4MB/s    in 6.8s    \n",
            "\n",
            "2022-11-01 08:39:27 (65.0 MB/s) - ‘FIRE_DATABASE_1.tar’ saved [466772992/466772992]\n",
            "\n",
            "--2022-11-01 08:39:28--  https://cluster.ig.umons.ac.be/HackIA21/databases/FIRE_DATABASE_2.tar\n",
            "Resolving cluster.ig.umons.ac.be (cluster.ig.umons.ac.be)... 193.190.209.220\n",
            "Connecting to cluster.ig.umons.ac.be (cluster.ig.umons.ac.be)|193.190.209.220|:443... connected.\n",
            "HTTP request sent, awaiting response... 200 OK\n",
            "Length: 1163223040 (1.1G) [application/octet-stream]\n",
            "Saving to: ‘FIRE_DATABASE_2.tar’\n",
            "\n",
            "FIRE_DATABASE_2.tar 100%[===================>]   1.08G  66.4MB/s    in 17s     \n",
            "\n",
            "2022-11-01 08:39:45 (65.4 MB/s) - ‘FIRE_DATABASE_2.tar’ saved [1163223040/1163223040]\n",
            "\n",
            "--2022-11-01 08:39:50--  https://cluster.ig.umons.ac.be/HackIA21/databases/FIRE_DATABASE_3.tar\n",
            "Resolving cluster.ig.umons.ac.be (cluster.ig.umons.ac.be)... 193.190.209.220\n",
            "Connecting to cluster.ig.umons.ac.be (cluster.ig.umons.ac.be)|193.190.209.220|:443... connected.\n",
            "HTTP request sent, awaiting response... 200 OK\n",
            "Length: 471111680 (449M) [application/octet-stream]\n",
            "Saving to: ‘FIRE_DATABASE_3.tar’\n",
            "\n",
            "FIRE_DATABASE_3.tar 100%[===================>] 449.29M  64.8MB/s    in 6.9s    \n",
            "\n",
            "2022-11-01 08:39:57 (65.0 MB/s) - ‘FIRE_DATABASE_3.tar’ saved [471111680/471111680]\n",
            "\n"
          ]
        }
      ],
      "source": [
        "!wget https://cluster.ig.umons.ac.be/HackIA21/databases/FIRE_DATABASE_1.tar\n",
        "!tar xf FIRE_DATABASE_1.tar -C 'bases' --one-top-level\n",
        "!rm FIRE_DATABASE_1.tar\n",
        "\n",
        "!wget https://cluster.ig.umons.ac.be/HackIA21/databases/FIRE_DATABASE_2.tar\n",
        "!tar xf FIRE_DATABASE_2.tar -C 'bases' --one-top-level\n",
        "!rm FIRE_DATABASE_2.tar\n",
        "\n",
        "!wget https://cluster.ig.umons.ac.be/HackIA21/databases/FIRE_DATABASE_3.tar\n",
        "!tar xf FIRE_DATABASE_3.tar -C 'bases' --one-top-level\n",
        "!rm FIRE_DATABASE_3.tar"
      ]
    },
    {
      "cell_type": "markdown",
      "source": [
        "# **II. Cleaning data**\n",
        "1. Create **db path**\n",
        "2. **Merge** all fire database **without 'copie' files**\n",
        "3. Find and delete **abberant** images\n",
        "4. Find and delete **duplicate** images"
      ],
      "metadata": {
        "id": "RKlHFKfjzJaf"
      }
    },
    {
      "cell_type": "code",
      "execution_count": 7,
      "metadata": {
        "id": "3knwLfJQmXaP"
      },
      "outputs": [],
      "source": [
        "!rm -r db\n",
        "!mkdir -p db/fire db/start_fire db/no_fire"
      ]
    },
    {
      "cell_type": "code",
      "execution_count": 8,
      "metadata": {
        "colab": {
          "base_uri": "https://localhost:8080/"
        },
        "id": "yJzX2LTQanwn",
        "outputId": "c5c2bb8f-408b-44d3-b56e-a0268b4b5776"
      },
      "outputs": [
        {
          "output_type": "stream",
          "name": "stdout",
          "text": [
            "cp: -r not specified; omitting directory 'bases/FIRE_DATABASE_1/fire'\n",
            "cp: -r not specified; omitting directory 'bases/FIRE_DATABASE_2/fire'\n",
            "cp: -r not specified; omitting directory 'bases/FIRE_DATABASE_3/fire'\n",
            "cp: -r not specified; omitting directory 'bases/FIRE_DATABASE_1/start_fire'\n",
            "cp: -r not specified; omitting directory 'bases/FIRE_DATABASE_2/start_fire'\n",
            "cp: -r not specified; omitting directory 'bases/FIRE_DATABASE_3/start_fire'\n",
            "cp: -r not specified; omitting directory 'bases/FIRE_DATABASE_1/no_fire'\n",
            "cp: -r not specified; omitting directory 'bases/FIRE_DATABASE_2/no_fire'\n",
            "cp: -r not specified; omitting directory 'bases/FIRE_DATABASE_3/no_fire'\n"
          ]
        }
      ],
      "source": [
        "!find bases/FIRE_DATABASE_1/fire ! -name '*copie*' -exec cp \"{}\" db/fire \\;\n",
        "!find bases/FIRE_DATABASE_2/fire ! -name '*copie*' -exec cp \"{}\" db/fire \\;\n",
        "!find bases/FIRE_DATABASE_3/fire ! -name '*copie*' -exec cp \"{}\" db/fire \\;\n",
        "\n",
        "!find bases/FIRE_DATABASE_1/start_fire ! -name '*copie*' -exec cp \"{}\" db/start_fire \\;\n",
        "!find bases/FIRE_DATABASE_2/start_fire ! -name '*copie*' -exec cp \"{}\" db/start_fire \\;\n",
        "!find bases/FIRE_DATABASE_3/start_fire ! -name '*copie*' -exec cp \"{}\" db/start_fire \\;\n",
        "\n",
        "!find bases/FIRE_DATABASE_1/no_fire ! -name '*copie*' -exec cp \"{}\" db/no_fire \\;\n",
        "!find bases/FIRE_DATABASE_2/no_fire ! -name '*copie*' -exec cp \"{}\" db/no_fire \\;\n",
        "!find bases/FIRE_DATABASE_3/no_fire ! -name '*copie*' -exec cp \"{}\" db/no_fire \\;"
      ]
    },
    {
      "cell_type": "code",
      "source": [
        "img_aberrant = {\n",
        "    'fire': ['00000335.jpg',\n",
        "             'images - 2022-05-04T104033.252.jpeg',\n",
        "             'images - 2022-05-04T104034.807.jpeg',\n",
        "             'images - 2022-05-04T104044.688.jpeg',\n",
        "             'images - 2022-05-04T104043.935.jpeg',\n",
        "             'images - 2022-05-04T104047.349.jpeg'],\n",
        "    'start_fire': [],\n",
        "    'no_fire': []\n",
        "    }"
      ],
      "metadata": {
        "id": "QG92eFUArCLC"
      },
      "execution_count": null,
      "outputs": []
    },
    {
      "cell_type": "markdown",
      "source": [
        "# **III. Adding data**\n",
        "1. Add **sunset**, **fox**, **automn** images as no fire\n",
        "2. Discuss about start fire and **fog similarity**"
      ],
      "metadata": {
        "id": "0Cnvw2Oi_RIg"
      }
    },
    {
      "cell_type": "markdown",
      "source": [
        "# **IV. Store database on google.drive**\n",
        "\n"
      ],
      "metadata": {
        "id": "vFcht9AcY1h0"
      }
    },
    {
      "cell_type": "code",
      "source": [
        "from google.colab import drive\n",
        "drive.mount('/content/gdrive')\n",
        "%cp -av \"/content/all_data/\" \"/content/gdrive/MyDrive/Challenge1/\""
      ],
      "metadata": {
        "id": "ig7BEM4Uaal-"
      },
      "execution_count": null,
      "outputs": []
    },
    {
      "cell_type": "markdown",
      "source": [
        "# **V. Delete duplicate images**"
      ],
      "metadata": {
        "id": "JY4fEXPWbzdp"
      }
    }
  ],
  "metadata": {
    "accelerator": "GPU",
    "colab": {
      "collapsed_sections": [],
      "provenance": [],
      "include_colab_link": true
    },
    "kernelspec": {
      "display_name": "Python 3",
      "name": "python3"
    }
  },
  "nbformat": 4,
  "nbformat_minor": 0
}
