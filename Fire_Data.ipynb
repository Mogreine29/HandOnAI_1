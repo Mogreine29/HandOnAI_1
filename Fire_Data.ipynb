{
  "cells": [
    {
      "cell_type": "markdown",
      "metadata": {
        "id": "view-in-github",
        "colab_type": "text"
      },
      "source": [
        "<a href=\"https://colab.research.google.com/github/ValentinCord/HandOnAI_1/blob/main/Fire_Data.ipynb\" target=\"_parent\"><img src=\"https://colab.research.google.com/assets/colab-badge.svg\" alt=\"Open In Colab\"/></a>"
      ]
    },
    {
      "cell_type": "markdown",
      "source": [
        "✅ **I**. Lecture des données depuis le cluster\n",
        "\n",
        "✅ **II**. Fusion des données avec suppression des fichiers copiés\n",
        "\n",
        "✅**III**. Sauvegarde des données sur google.drive\n",
        "\n",
        "✅ **IV**. Suppression des données abérrantes \n",
        "\n",
        "✅ **V**. Ajout de données utiles\n",
        "\n",
        "✅**VI**. Suppresion des doublons\n",
        "\n",
        "✅**VII**. Description des données"
      ],
      "metadata": {
        "id": "nRf3Rqa0rVht"
      }
    },
    {
      "cell_type": "markdown",
      "source": [
        "# **I. Reading database**"
      ],
      "metadata": {
        "id": "l9_0DeUO-zRu"
      }
    },
    {
      "cell_type": "code",
      "execution_count": null,
      "metadata": {
        "id": "_UEjh8Rulquq"
      },
      "outputs": [],
      "source": [
        "!/opt/bin/nvidia-smi\n",
        "!rm -rf sample_data"
      ]
    },
    {
      "cell_type": "code",
      "execution_count": 2,
      "metadata": {
        "id": "1CwAmMbqmGhW"
      },
      "outputs": [],
      "source": [
        "import os\n",
        "bases_path_after=\"bases\"\n",
        "if os.path.exists(bases_path_after) == False:\n",
        "    os.makedirs(bases_path_after)"
      ]
    },
    {
      "cell_type": "code",
      "execution_count": null,
      "metadata": {
        "id": "9zdwkyRtmnN-"
      },
      "outputs": [],
      "source": [
        "!wget https://cluster.ig.umons.ac.be/HackIA21/databases/FIRE_DATABASE_1.tar\n",
        "!tar xf FIRE_DATABASE_1.tar -C 'bases' --one-top-level\n",
        "!rm FIRE_DATABASE_1.tar\n",
        "\n",
        "!wget https://cluster.ig.umons.ac.be/HackIA21/databases/FIRE_DATABASE_2.tar\n",
        "!tar xf FIRE_DATABASE_2.tar -C 'bases' --one-top-level\n",
        "!rm FIRE_DATABASE_2.tar\n",
        "\n",
        "!wget https://cluster.ig.umons.ac.be/HackIA21/databases/FIRE_DATABASE_3.tar\n",
        "!tar xf FIRE_DATABASE_3.tar -C 'bases' --one-top-level\n",
        "!rm FIRE_DATABASE_3.tar"
      ]
    },
    {
      "cell_type": "markdown",
      "source": [
        "# **II. Merge data**"
      ],
      "metadata": {
        "id": "RKlHFKfjzJaf"
      }
    },
    {
      "cell_type": "code",
      "execution_count": null,
      "metadata": {
        "id": "3knwLfJQmXaP"
      },
      "outputs": [],
      "source": [
        "!rm -r db\n",
        "!mkdir -p db/fire db/start_fire db/no_fire"
      ]
    },
    {
      "cell_type": "code",
      "execution_count": null,
      "metadata": {
        "id": "yJzX2LTQanwn"
      },
      "outputs": [],
      "source": [
        "!find bases/FIRE_DATABASE_1/fire ! -name '*copie*' -exec cp \"{}\" db/fire \\;\n",
        "!find bases/FIRE_DATABASE_2/fire ! -name '*copie*' -exec cp \"{}\" db/fire \\;\n",
        "!find bases/FIRE_DATABASE_3/fire ! -name '*copie*' -exec cp \"{}\" db/fire \\;\n",
        "\n",
        "!find bases/FIRE_DATABASE_1/start_fire ! -name '*copie*' -exec cp \"{}\" db/start_fire \\;\n",
        "!find bases/FIRE_DATABASE_2/start_fire ! -name '*copie*' -exec cp \"{}\" db/start_fire \\;\n",
        "!find bases/FIRE_DATABASE_3/start_fire ! -name '*copie*' -exec cp \"{}\" db/start_fire \\;\n",
        "\n",
        "!find bases/FIRE_DATABASE_1/no_fire ! -name '*copie*' -exec cp \"{}\" db/no_fire \\;\n",
        "!find bases/FIRE_DATABASE_2/no_fire ! -name '*copie*' -exec cp \"{}\" db/no_fire \\;\n",
        "!find bases/FIRE_DATABASE_3/no_fire ! -name '*copie*' -exec cp \"{}\" db/no_fire \\;"
      ]
    },
    {
      "cell_type": "markdown",
      "source": [
        "# **III. Store database on google.drive**\n",
        "\n"
      ],
      "metadata": {
        "id": "vFcht9AcY1h0"
      }
    },
    {
      "cell_type": "code",
      "source": [
        "from google.colab import drive\n",
        "drive.mount('/content/gdrive')"
      ],
      "metadata": {
        "id": "ByJxCLuC1emH"
      },
      "execution_count": null,
      "outputs": []
    },
    {
      "cell_type": "code",
      "source": [
        "!cp -av '/content/db/' '/content/gdrive/MyDrive/HandOnAI_1_Fire/'"
      ],
      "metadata": {
        "id": "ig7BEM4Uaal-"
      },
      "execution_count": null,
      "outputs": []
    },
    {
      "cell_type": "code",
      "source": [
        "drive_data_folder = '/content/gdrive/MyDrive/HandOnAI_1_Fire/'"
      ],
      "metadata": {
        "id": "o0lkoKtCzO14"
      },
      "execution_count": 8,
      "outputs": []
    },
    {
      "cell_type": "markdown",
      "source": [
        "# **IV. Delete wrong data**"
      ],
      "metadata": {
        "id": "LQ65Le3Ese0Z"
      }
    },
    {
      "cell_type": "code",
      "source": [
        "img_aberrant = {\n",
        "    'fire': ['00000335.jpg',\n",
        "             'images - 2022-05-04T104033.252.jpeg',\n",
        "             'images - 2022-05-04T104034.807.jpeg',\n",
        "             'images - 2022-05-04T104044.688.jpeg',\n",
        "             'images - 2022-05-04T104043.935.jpeg',\n",
        "             'images - 2022-05-04T104047.349.jpeg'],\n",
        "    'start_fire': [],\n",
        "    'no_fire': []\n",
        "    }\n",
        "\n",
        "for classe, images in img_aberrant.items():\n",
        "  \n",
        "  for image in images:\n",
        "    \n",
        "    path = drive_data_folder + classe + '/' + image\n",
        "    \n",
        "    if os.path.exists(path):\n",
        "      os.remove(path)\n",
        "\n",
        "    else:\n",
        "      print(f'{path} not found')\n"
      ],
      "metadata": {
        "id": "QG92eFUArCLC"
      },
      "execution_count": 12,
      "outputs": []
    },
    {
      "cell_type": "markdown",
      "source": [
        "# **V. Adding data**"
      ],
      "metadata": {
        "id": "0Cnvw2Oi_RIg"
      }
    },
    {
      "cell_type": "markdown",
      "source": [
        "# **VI. Delete duplicate data**"
      ],
      "metadata": {
        "id": "JY4fEXPWbzdp"
      }
    },
    {
      "cell_type": "code",
      "source": [
        "!pip install ImageHash"
      ],
      "metadata": {
        "id": "q9TQbXOs3uh0"
      },
      "execution_count": null,
      "outputs": []
    },
    {
      "cell_type": "code",
      "source": [
        "import imagehash\n",
        "from tqdm import tqdm\n",
        "from PIL import Image"
      ],
      "metadata": {
        "id": "Dd4meHJE30hS"
      },
      "execution_count": 27,
      "outputs": []
    },
    {
      "cell_type": "code",
      "source": [
        "from traitlets.traitlets import default\n",
        "classes = ['fire/', 'start_fire/', 'no_fire/']\n",
        "\n",
        "hash_dict = {}\n",
        "\n",
        "for classe in classes:\n",
        "\n",
        "  path = drive_data_folder + classe\n",
        "\n",
        "  for image in tqdm(os.listdir(path)):\n",
        "\n",
        "    path_image = path + image\n",
        "\n",
        "    hash = imagehash.dhash(Image.open(path_image))\n",
        "\n",
        "    if hash not in hash_dict:\n",
        "      hash_dict[hash] = path_image\n",
        "\n",
        "    else:\n",
        "      #print(f'{hash_dict[hash]} is equal to {path_image}')\n",
        "      os.remove(path_image)\n",
        "      #print(f'{path_image} removed')\n"
      ],
      "metadata": {
        "id": "bu_9OfT84ZQO"
      },
      "execution_count": null,
      "outputs": []
    },
    {
      "cell_type": "markdown",
      "source": [
        "# **VII. Data Description**\n"
      ],
      "metadata": {
        "id": "LI4s-8CJOKAm"
      }
    },
    {
      "cell_type": "code",
      "source": [
        "import os\n",
        "\n",
        "path_fire = drive_data_folder + 'fire'\n",
        "path_start_fire = drive_data_folder + 'start_fire'\n",
        "path_no_fire = drive_data_folder + 'no_fire'\n",
        "\n",
        "print(f'Fire : {len(os.listdir(path_fire))} images')\n",
        "print(f'Start fire : {len(os.listdir(path_start_fire))} images')\n",
        "print(f'No fire : {len(os.listdir(path_no_fire))} images')"
      ],
      "metadata": {
        "id": "snfmZYdjOTyS",
        "outputId": "c41bb810-3fd0-4b23-f213-a4183e32b241",
        "colab": {
          "base_uri": "https://localhost:8080/"
        }
      },
      "execution_count": 30,
      "outputs": [
        {
          "output_type": "stream",
          "name": "stdout",
          "text": [
            "Fire : 694 images\n",
            "Start fire : 492 images\n",
            "No fire : 497 images\n"
          ]
        }
      ]
    }
  ],
  "metadata": {
    "accelerator": "GPU",
    "colab": {
      "collapsed_sections": [],
      "provenance": [],
      "include_colab_link": true
    },
    "kernelspec": {
      "display_name": "Python 3",
      "name": "python3"
    }
  },
  "nbformat": 4,
  "nbformat_minor": 0
}
