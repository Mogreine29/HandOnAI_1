{
  "cells": [
    {
      "cell_type": "markdown",
      "metadata": {
        "id": "view-in-github",
        "colab_type": "text"
      },
      "source": [
        "<a href=\"https://colab.research.google.com/github/ValentinCord/HandOnAI_1/blob/main/Fire_Data.ipynb\" target=\"_parent\"><img src=\"https://colab.research.google.com/assets/colab-badge.svg\" alt=\"Open In Colab\"/></a>"
      ]
    },
    {
      "cell_type": "markdown",
      "source": [
        "✅ **I**. Lecture des données depuis le cluster\n",
        "\n",
        "✅ **II**. Fusion des données avec suppression des fichiers copiés\n",
        "\n",
        "✅ **III**. Sauvegarde des données sur google.drive\n",
        "\n",
        "✅ **IV**. Suppression des données abérrantes \n",
        "\n",
        "✅ **V**. Ajout de données utiles\n",
        "\n",
        "✅ **VI**. Suppresion des doublons\n",
        "\n",
        "✅ **VII**. Description des données"
      ],
      "metadata": {
        "id": "nRf3Rqa0rVht"
      }
    },
    {
      "cell_type": "markdown",
      "source": [
        "# **I. Reading database**"
      ],
      "metadata": {
        "id": "l9_0DeUO-zRu"
      }
    },
    {
      "cell_type": "code",
      "execution_count": null,
      "metadata": {
        "id": "1CwAmMbqmGhW"
      },
      "outputs": [],
      "source": [
        "import os\n",
        "bases_path_after=\"bases\"\n",
        "if os.path.exists(bases_path_after) == False:\n",
        "    os.makedirs(bases_path_after)"
      ]
    },
    {
      "cell_type": "code",
      "execution_count": null,
      "metadata": {
        "id": "9zdwkyRtmnN-",
        "outputId": "bfe1c2b8-84a1-47eb-c447-d27fb2ac84d4",
        "colab": {
          "base_uri": "https://localhost:8080/"
        }
      },
      "outputs": [
        {
          "output_type": "stream",
          "name": "stdout",
          "text": [
            "--2022-11-12 11:24:08--  https://cluster.ig.umons.ac.be/HackIA21/databases/FIRE_DATABASE_1.tar\n",
            "Resolving cluster.ig.umons.ac.be (cluster.ig.umons.ac.be)... 193.190.209.220\n",
            "Connecting to cluster.ig.umons.ac.be (cluster.ig.umons.ac.be)|193.190.209.220|:443... connected.\n",
            "HTTP request sent, awaiting response... 200 OK\n",
            "Length: 466772992 (445M) [application/octet-stream]\n",
            "Saving to: ‘FIRE_DATABASE_1.tar’\n",
            "\n",
            "FIRE_DATABASE_1.tar 100%[===================>] 445.15M  14.1MB/s    in 38s     \n",
            "\n",
            "2022-11-12 11:24:49 (11.6 MB/s) - ‘FIRE_DATABASE_1.tar’ saved [466772992/466772992]\n",
            "\n",
            "--2022-11-12 11:24:50--  https://cluster.ig.umons.ac.be/HackIA21/databases/FIRE_DATABASE_2.tar\n",
            "Resolving cluster.ig.umons.ac.be (cluster.ig.umons.ac.be)... 193.190.209.220\n",
            "Connecting to cluster.ig.umons.ac.be (cluster.ig.umons.ac.be)|193.190.209.220|:443... connected.\n",
            "HTTP request sent, awaiting response... 200 OK\n",
            "Length: 1163223040 (1.1G) [application/octet-stream]\n",
            "Saving to: ‘FIRE_DATABASE_2.tar’\n",
            "\n",
            "FIRE_DATABASE_2.tar  43%[=======>            ] 485.80M  12.1MB/s    eta 47s    "
          ]
        }
      ],
      "source": [
        "!wget https://cluster.ig.umons.ac.be/HackIA21/databases/FIRE_DATABASE_1.tar\n",
        "!tar xf FIRE_DATABASE_1.tar -C 'bases' --one-top-level\n",
        "!rm FIRE_DATABASE_1.tar\n",
        "\n",
        "!wget https://cluster.ig.umons.ac.be/HackIA21/databases/FIRE_DATABASE_2.tar\n",
        "!tar xf FIRE_DATABASE_2.tar -C 'bases' --one-top-level\n",
        "!rm FIRE_DATABASE_2.tar\n",
        "\n",
        "!wget https://cluster.ig.umons.ac.be/HackIA21/databases/FIRE_DATABASE_3.tar\n",
        "!tar xf FIRE_DATABASE_3.tar -C 'bases' --one-top-level\n",
        "!rm FIRE_DATABASE_3.tar"
      ]
    },
    {
      "cell_type": "markdown",
      "source": [
        "# **II. Merge data**"
      ],
      "metadata": {
        "id": "RKlHFKfjzJaf"
      }
    },
    {
      "cell_type": "code",
      "execution_count": null,
      "metadata": {
        "id": "3knwLfJQmXaP",
        "outputId": "9b78a91c-fcd6-4462-cf72-e7c9781d2d3d",
        "colab": {
          "base_uri": "https://localhost:8080/"
        }
      },
      "outputs": [
        {
          "output_type": "stream",
          "name": "stdout",
          "text": [
            "rm: cannot remove 'db': No such file or directory\n"
          ]
        }
      ],
      "source": [
        "!rm -r db\n",
        "!mkdir -p db/fire db/start_fire db/no_fire"
      ]
    },
    {
      "cell_type": "code",
      "execution_count": null,
      "metadata": {
        "id": "yJzX2LTQanwn",
        "outputId": "8be1ba06-a37e-4e4f-c9be-e3608766b200",
        "colab": {
          "base_uri": "https://localhost:8080/"
        }
      },
      "outputs": [
        {
          "output_type": "stream",
          "name": "stdout",
          "text": [
            "cp: -r not specified; omitting directory 'bases/FIRE_DATABASE_1/fire'\n",
            "cp: -r not specified; omitting directory 'bases/FIRE_DATABASE_2/fire'\n",
            "cp: -r not specified; omitting directory 'bases/FIRE_DATABASE_3/fire'\n",
            "cp: -r not specified; omitting directory 'bases/FIRE_DATABASE_1/start_fire'\n",
            "cp: -r not specified; omitting directory 'bases/FIRE_DATABASE_2/start_fire'\n",
            "cp: -r not specified; omitting directory 'bases/FIRE_DATABASE_3/start_fire'\n",
            "cp: -r not specified; omitting directory 'bases/FIRE_DATABASE_1/no_fire'\n",
            "cp: -r not specified; omitting directory 'bases/FIRE_DATABASE_2/no_fire'\n",
            "cp: -r not specified; omitting directory 'bases/FIRE_DATABASE_3/no_fire'\n"
          ]
        }
      ],
      "source": [
        "!find bases/FIRE_DATABASE_1/fire ! -name '*copie*' -exec cp \"{}\" db/fire \\;\n",
        "!find bases/FIRE_DATABASE_2/fire ! -name '*copie*' -exec cp \"{}\" db/fire \\;\n",
        "!find bases/FIRE_DATABASE_3/fire ! -name '*copie*' -exec cp \"{}\" db/fire \\;\n",
        "\n",
        "!find bases/FIRE_DATABASE_1/start_fire ! -name '*copie*' -exec cp \"{}\" db/start_fire \\;\n",
        "!find bases/FIRE_DATABASE_2/start_fire ! -name '*copie*' -exec cp \"{}\" db/start_fire \\;\n",
        "!find bases/FIRE_DATABASE_3/start_fire ! -name '*copie*' -exec cp \"{}\" db/start_fire \\;\n",
        "\n",
        "!find bases/FIRE_DATABASE_1/no_fire ! -name '*copie*' -exec cp \"{}\" db/no_fire \\;\n",
        "!find bases/FIRE_DATABASE_2/no_fire ! -name '*copie*' -exec cp \"{}\" db/no_fire \\;\n",
        "!find bases/FIRE_DATABASE_3/no_fire ! -name '*copie*' -exec cp \"{}\" db/no_fire \\;"
      ]
    },
    {
      "cell_type": "markdown",
      "source": [
        "# **III. Store database on google.drive**\n",
        "\n"
      ],
      "metadata": {
        "id": "vFcht9AcY1h0"
      }
    },
    {
      "cell_type": "code",
      "source": [
        "from google.colab import drive\n",
        "drive.mount('/content/gdrive')"
      ],
      "metadata": {
        "id": "ByJxCLuC1emH",
        "outputId": "55bcb7ec-5efc-4788-8fd4-0ba149fb1570",
        "colab": {
          "base_uri": "https://localhost:8080/"
        }
      },
      "execution_count": null,
      "outputs": [
        {
          "output_type": "stream",
          "name": "stdout",
          "text": [
            "Mounted at /content/gdrive\n"
          ]
        }
      ]
    },
    {
      "cell_type": "code",
      "source": [
        "!cp -av '/content/db/' '/content/gdrive/MyDrive/HandOnAI_1_Fire/'"
      ],
      "metadata": {
        "id": "ig7BEM4Uaal-"
      },
      "execution_count": null,
      "outputs": []
    },
    {
      "cell_type": "code",
      "source": [
        "drive_data_folder = '/content/gdrive/MyDrive/HandOnAI_1_Fire/'"
      ],
      "metadata": {
        "id": "o0lkoKtCzO14"
      },
      "execution_count": null,
      "outputs": []
    },
    {
      "cell_type": "markdown",
      "source": [
        "# **IV. Delete wrong data**"
      ],
      "metadata": {
        "id": "LQ65Le3Ese0Z"
      }
    },
    {
      "cell_type": "code",
      "source": [
        "img_aberrant = {\n",
        "    'fire': ['00000335.jpg',\n",
        "             'images - 2022-05-04T104033.252.jpeg',\n",
        "             'images - 2022-05-04T104034.807.jpeg',\n",
        "             'images - 2022-05-04T104044.688.jpeg',\n",
        "             'images - 2022-05-04T104043.935.jpeg',\n",
        "             'images - 2022-05-04T104047.349.jpeg'],\n",
        "    'start_fire': [],\n",
        "    'no_fire': []\n",
        "    }\n",
        "\n",
        "for classe, images in img_aberrant.items():\n",
        "  \n",
        "  for image in images:\n",
        "    \n",
        "    path = drive_data_folder + classe + '/' + image\n",
        "    \n",
        "    if os.path.exists(path):\n",
        "      os.remove(path)\n",
        "\n",
        "    else:\n",
        "      print(f'{path} not found')\n"
      ],
      "metadata": {
        "id": "QG92eFUArCLC"
      },
      "execution_count": null,
      "outputs": []
    },
    {
      "cell_type": "markdown",
      "source": [
        "# **V. Adding data**"
      ],
      "metadata": {
        "id": "0Cnvw2Oi_RIg"
      }
    },
    {
      "cell_type": "code",
      "source": [
        "!pip install git+https://github.com/Joeclinton1/google-images-download.git\n",
        "\n",
        "from google_images_download import google_images_download\n",
        "\n",
        "# instantiate the class\n",
        "response = google_images_download.googleimagesdownload()\n",
        "arguments = {\"keywords\": \"forest, red panda in a forest, sunset in a forest, fall in forest, fire forest\",\n",
        "             \"limit\": 50, \"print_urls\": False}\n",
        "paths = response.download(arguments)"
      ],
      "metadata": {
        "id": "gVH5CAsxs0cr"
      },
      "execution_count": null,
      "outputs": []
    },
    {
      "cell_type": "code",
      "source": [
        "#TODO\n",
        "!cp -av '/content/forest/' '/content/gdrive/MyDrive/HandOnAI_1_Fire/no_fire'"
      ],
      "metadata": {
        "id": "r_rmhddsxvG2"
      },
      "execution_count": null,
      "outputs": []
    },
    {
      "cell_type": "markdown",
      "source": [
        "# **VI. Delete duplicate data**"
      ],
      "metadata": {
        "id": "JY4fEXPWbzdp"
      }
    },
    {
      "cell_type": "code",
      "source": [
        "!pip install ImageHash"
      ],
      "metadata": {
        "id": "q9TQbXOs3uh0"
      },
      "execution_count": null,
      "outputs": []
    },
    {
      "cell_type": "code",
      "source": [
        "import imagehash\n",
        "from tqdm import tqdm\n",
        "from PIL import Image"
      ],
      "metadata": {
        "id": "Dd4meHJE30hS"
      },
      "execution_count": null,
      "outputs": []
    },
    {
      "cell_type": "code",
      "source": [
        "from traitlets.traitlets import default\n",
        "classes = ['fire/', 'start_fire/', 'no_fire/']\n",
        "\n",
        "hash_dict = {}\n",
        "\n",
        "for classe in classes:\n",
        "\n",
        "  path = drive_data_folder + classe\n",
        "\n",
        "  for image in tqdm(os.listdir(path)):\n",
        "\n",
        "    path_image = path + image\n",
        "\n",
        "    hash = imagehash.dhash(Image.open(path_image))\n",
        "\n",
        "    if hash not in hash_dict:\n",
        "      hash_dict[hash] = path_image\n",
        "\n",
        "    else:\n",
        "      #print(f'{hash_dict[hash]} is equal to {path_image}')\n",
        "      os.remove(path_image)\n",
        "      #print(f'{path_image} removed')\n"
      ],
      "metadata": {
        "id": "bu_9OfT84ZQO",
        "outputId": "857385d3-5eb8-418e-f8d9-c8cd357c8acc",
        "colab": {
          "base_uri": "https://localhost:8080/"
        }
      },
      "execution_count": null,
      "outputs": [
        {
          "output_type": "stream",
          "name": "stderr",
          "text": [
            " 68%|██████▊   | 527/775 [00:05<00:03, 69.16it/s]/usr/local/lib/python3.7/dist-packages/PIL/TiffImagePlugin.py:770: UserWarning: Possibly corrupt EXIF data.  Expecting to read 20 bytes but only got 19. Skipping tag 36867\n",
            "  \" Skipping tag %s\" % (size, len(data), tag)\n",
            "100%|██████████| 775/775 [00:07<00:00, 101.98it/s]\n",
            "100%|██████████| 500/500 [00:09<00:00, 54.31it/s] \n",
            "100%|██████████| 500/500 [00:16<00:00, 30.73it/s]\n"
          ]
        }
      ]
    },
    {
      "cell_type": "markdown",
      "source": [
        "# **VII. Data Description**\n"
      ],
      "metadata": {
        "id": "LI4s-8CJOKAm"
      }
    },
    {
      "cell_type": "code",
      "source": [
        "import os\n",
        "\n",
        "path_fire = drive_data_folder + 'fire'\n",
        "path_start_fire = drive_data_folder + 'start_fire'\n",
        "path_no_fire = drive_data_folder + 'no_fire'\n",
        "\n",
        "print(f'Fire : {len(os.listdir(path_fire))} images')\n",
        "print(f'Start fire : {len(os.listdir(path_start_fire))} images')\n",
        "print(f'No fire : {len(os.listdir(path_no_fire))} images')"
      ],
      "metadata": {
        "id": "snfmZYdjOTyS",
        "outputId": "3e4c8e6f-2e92-4985-9f4a-e93da0b4b305",
        "colab": {
          "base_uri": "https://localhost:8080/"
        }
      },
      "execution_count": null,
      "outputs": [
        {
          "output_type": "stream",
          "name": "stdout",
          "text": [
            "Fire : 694 images\n",
            "Start fire : 492 images\n",
            "No fire : 497 images\n"
          ]
        }
      ]
    }
  ],
  "metadata": {
    "accelerator": "GPU",
    "colab": {
      "collapsed_sections": [],
      "provenance": [],
      "include_colab_link": true
    },
    "kernelspec": {
      "display_name": "Python 3",
      "name": "python3"
    }
  },
  "nbformat": 4,
  "nbformat_minor": 0
}