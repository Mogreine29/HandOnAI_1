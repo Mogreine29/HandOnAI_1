{
  "cells": [
    {
      "cell_type": "markdown",
      "metadata": {
        "id": "view-in-github",
        "colab_type": "text"
      },
      "source": [
        "<a href=\"https://colab.research.google.com/github/ValentinCord/HandOnAI_1/blob/main/Fire_Data.ipynb\" target=\"_parent\"><img src=\"https://colab.research.google.com/assets/colab-badge.svg\" alt=\"Open In Colab\"/></a>"
      ]
    },
    {
      "cell_type": "markdown",
      "source": [
        "✅ **I**. Lecture des données depuis le cluster\n",
        "\n",
        "✅ **II**. Fusion des données avec suppression des fichiers copiés\n",
        "\n",
        "✅**III**. Sauvegarde des données sur google.drive\n",
        "\n",
        "✅ **IV**. Suppression des données abérrantes \n",
        "\n",
        "❌ **V**. Ajout de données utiles\n",
        "\n",
        "❌**VI**. Suprresion des doublons\n",
        "\n"
      ],
      "metadata": {
        "id": "nRf3Rqa0rVht"
      }
    },
    {
      "cell_type": "markdown",
      "source": [
        "# **I. Reading database**"
      ],
      "metadata": {
        "id": "l9_0DeUO-zRu"
      }
    },
    {
      "cell_type": "code",
      "execution_count": null,
      "metadata": {
        "id": "_UEjh8Rulquq"
      },
      "outputs": [],
      "source": [
        "!/opt/bin/nvidia-smi\n",
        "!rm -rf sample_data"
      ]
    },
    {
      "cell_type": "code",
      "execution_count": 2,
      "metadata": {
        "id": "1CwAmMbqmGhW"
      },
      "outputs": [],
      "source": [
        "import os\n",
        "bases_path_after=\"bases\"\n",
        "if os.path.exists(bases_path_after) == False:\n",
        "    os.makedirs(bases_path_after)"
      ]
    },
    {
      "cell_type": "code",
      "execution_count": null,
      "metadata": {
        "id": "9zdwkyRtmnN-"
      },
      "outputs": [],
      "source": [
        "!wget https://cluster.ig.umons.ac.be/HackIA21/databases/FIRE_DATABASE_1.tar\n",
        "!tar xf FIRE_DATABASE_1.tar -C 'bases' --one-top-level\n",
        "!rm FIRE_DATABASE_1.tar\n",
        "\n",
        "!wget https://cluster.ig.umons.ac.be/HackIA21/databases/FIRE_DATABASE_2.tar\n",
        "!tar xf FIRE_DATABASE_2.tar -C 'bases' --one-top-level\n",
        "!rm FIRE_DATABASE_2.tar\n",
        "\n",
        "!wget https://cluster.ig.umons.ac.be/HackIA21/databases/FIRE_DATABASE_3.tar\n",
        "!tar xf FIRE_DATABASE_3.tar -C 'bases' --one-top-level\n",
        "!rm FIRE_DATABASE_3.tar"
      ]
    },
    {
      "cell_type": "markdown",
      "source": [
        "# **II. Merge data**"
      ],
      "metadata": {
        "id": "RKlHFKfjzJaf"
      }
    },
    {
      "cell_type": "code",
      "execution_count": null,
      "metadata": {
        "id": "3knwLfJQmXaP"
      },
      "outputs": [],
      "source": [
        "!rm -r db\n",
        "!mkdir -p db/fire db/start_fire db/no_fire"
      ]
    },
    {
      "cell_type": "code",
      "execution_count": 5,
      "metadata": {
        "id": "yJzX2LTQanwn"
      },
      "outputs": [],
      "source": [
        "!find bases/FIRE_DATABASE_1/fire ! -name '*copie*' -exec cp \"{}\" db/fire \\;\n",
        "!find bases/FIRE_DATABASE_2/fire ! -name '*copie*' -exec cp \"{}\" db/fire \\;\n",
        "!find bases/FIRE_DATABASE_3/fire ! -name '*copie*' -exec cp \"{}\" db/fire \\;\n",
        "\n",
        "!find bases/FIRE_DATABASE_1/start_fire ! -name '*copie*' -exec cp \"{}\" db/start_fire \\;\n",
        "!find bases/FIRE_DATABASE_2/start_fire ! -name '*copie*' -exec cp \"{}\" db/start_fire \\;\n",
        "!find bases/FIRE_DATABASE_3/start_fire ! -name '*copie*' -exec cp \"{}\" db/start_fire \\;\n",
        "\n",
        "!find bases/FIRE_DATABASE_1/no_fire ! -name '*copie*' -exec cp \"{}\" db/no_fire \\;\n",
        "!find bases/FIRE_DATABASE_2/no_fire ! -name '*copie*' -exec cp \"{}\" db/no_fire \\;\n",
        "!find bases/FIRE_DATABASE_3/no_fire ! -name '*copie*' -exec cp \"{}\" db/no_fire \\;"
      ]
    },
    {
      "cell_type": "markdown",
      "source": [
        "# **III. Store database on google.drive**\n",
        "\n"
      ],
      "metadata": {
        "id": "vFcht9AcY1h0"
      }
    },
    {
      "cell_type": "code",
      "source": [
        "from google.colab import drive\n",
        "drive.mount('/content/gdrive')"
      ],
      "metadata": {
        "id": "ByJxCLuC1emH"
      },
      "execution_count": null,
      "outputs": []
    },
    {
      "cell_type": "code",
      "source": [
        "%cp -av '/content/db/' '/content/gdrive/MyDrive/HandOnAi_1/'"
      ],
      "metadata": {
        "id": "ig7BEM4Uaal-"
      },
      "execution_count": null,
      "outputs": []
    },
    {
      "cell_type": "code",
      "source": [
        "drive_data_folder = '/content/gdrive/MyDrive/HandOnAi_1/'"
      ],
      "metadata": {
        "id": "o0lkoKtCzO14"
      },
      "execution_count": null,
      "outputs": []
    },
    {
      "cell_type": "markdown",
      "source": [
        "# **III. Delete wrong data**"
      ],
      "metadata": {
        "id": "LQ65Le3Ese0Z"
      }
    },
    {
      "cell_type": "code",
      "source": [
        "img_aberrant = {\n",
        "    'fire': ['00000335.jpg',\n",
        "             'images - 2022-05-04T104033.252.jpeg',\n",
        "             'images - 2022-05-04T104034.807.jpeg',\n",
        "             'images - 2022-05-04T104044.688.jpeg',\n",
        "             'images - 2022-05-04T104043.935.jpeg',\n",
        "             'images - 2022-05-04T104047.349.jpeg'],\n",
        "    'start_fire': [],\n",
        "    'no_fire': []\n",
        "    }\n",
        "\n",
        "for classe, images in img_aberrant.items():\n",
        "  \n",
        "  for image in images:\n",
        "    \n",
        "    path = drive_data_folder + classe + '/' + image\n",
        "    \n",
        "    if os.path.exists(path):\n",
        "      os.remove(path)\n",
        "\n",
        "    else:\n",
        "      print(f'{path} not found')\n"
      ],
      "metadata": {
        "id": "QG92eFUArCLC"
      },
      "execution_count": null,
      "outputs": []
    },
    {
      "cell_type": "markdown",
      "source": [
        "# **IV. Adding data**"
      ],
      "metadata": {
        "id": "0Cnvw2Oi_RIg"
      }
    },
    {
      "cell_type": "markdown",
      "source": [
        "# **V. Delete duplicate data**"
      ],
      "metadata": {
        "id": "JY4fEXPWbzdp"
      }
    }
  ],
  "metadata": {
    "accelerator": "GPU",
    "colab": {
      "collapsed_sections": [],
      "provenance": [],
      "include_colab_link": true
    },
    "kernelspec": {
      "display_name": "Python 3",
      "name": "python3"
    }
  },
  "nbformat": 4,
  "nbformat_minor": 0
}