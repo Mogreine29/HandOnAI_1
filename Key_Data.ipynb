{
  "nbformat": 4,
  "nbformat_minor": 0,
  "metadata": {
    "colab": {
      "provenance": [],
      "authorship_tag": "ABX9TyMWje6ncqJP7zBIixsx4ix2",
      "include_colab_link": true
    },
    "kernelspec": {
      "name": "python3",
      "display_name": "Python 3"
    },
    "language_info": {
      "name": "python"
    }
  },
  "cells": [
    {
      "cell_type": "markdown",
      "metadata": {
        "id": "view-in-github",
        "colab_type": "text"
      },
      "source": [
        "<a href=\"https://colab.research.google.com/github/ValentinCord/HandOnAI_1/blob/main/Key_Data.ipynb\" target=\"_parent\"><img src=\"https://colab.research.google.com/assets/colab-badge.svg\" alt=\"Open In Colab\"/></a>"
      ]
    },
    {
      "cell_type": "markdown",
      "source": [
        "✅ **I**. Fusion des backgrounds et des clés\n",
        "\n",
        "✅ **II**. Sauvegarde des données sur google.drive\n",
        "\n",
        "✅ **III**. \n"
      ],
      "metadata": {
        "id": "j6W4ra1bdmpw"
      }
    },
    {
      "cell_type": "markdown",
      "source": [
        "# **I. Merge backgrounds and keys**"
      ],
      "metadata": {
        "id": "50JuDEYHd3oC"
      }
    },
    {
      "cell_type": "code",
      "source": [
        "!/opt/bin/nvidia-smi\n",
        "!rm -rf sample_data"
      ],
      "metadata": {
        "id": "j2Cd98ZEZCp0"
      },
      "execution_count": null,
      "outputs": []
    },
    {
      "cell_type": "code",
      "execution_count": null,
      "metadata": {
        "id": "DWOk5dQuqv3D"
      },
      "outputs": [],
      "source": [
        "!git clone https://github.com/belarbi2733/keras_yolov3"
      ]
    },
    {
      "cell_type": "code",
      "source": [
        "!cd keras_yolov3/\n",
        "\n",
        "!wget https://github.com/belarbi2733/keras_yolov3/releases/download/1/key_wb.zip\n",
        "!wget https://github.com/belarbi2733/keras_yolov3/releases/download/1/bckgrnd.zip\n",
        "!unzip bckgrnd.zip \n",
        "!unzip key_wb.zip\n",
        "!rm bckgrnd.zip \n",
        "!rm key_wb.zip"
      ],
      "metadata": {
        "id": "amXNOMiBZJa5"
      },
      "execution_count": null,
      "outputs": []
    },
    {
      "cell_type": "code",
      "source": [
        "!rm -r keys_and_background\n",
        "\n",
        "!python keys_with_background.py --keys 'key_wb' --background 'bckgrnd' --output 'keys_and_background'\n",
        "\n",
        "\"\"\"\n",
        "Patch keras_yolov3 keys_with_background.py\n",
        "\n",
        "DELETE : from keras.preprocessing import image\n",
        "ADD : from tensorflow.keras.utils import array_to_img \n",
        "CHANGE (296) : img = image.array_to_img(final) TO : img = array_to_img(final)\n",
        "\"\"\""
      ],
      "metadata": {
        "id": "snOq2wlQZnuY"
      },
      "execution_count": null,
      "outputs": []
    },
    {
      "cell_type": "markdown",
      "source": [
        "# **II. Store database on google.drive**"
      ],
      "metadata": {
        "id": "DPnm6sHdeG06"
      }
    },
    {
      "cell_type": "code",
      "source": [
        "from google.colab import drive\n",
        "drive.mount('/content/gdrive')"
      ],
      "metadata": {
        "id": "V4VXMVz2fEER"
      },
      "execution_count": null,
      "outputs": []
    },
    {
      "cell_type": "code",
      "source": [
        "!cp -av '/content/keras_yolov3/keys_and_background/' '/content/gdrive/MyDrive/HandOnAI_1_Key/'"
      ],
      "metadata": {
        "id": "hEiA4Tn8efrl"
      },
      "execution_count": null,
      "outputs": []
    },
    {
      "cell_type": "code",
      "source": [
        "drive_data_folder = '/content/gdrive/MyDrive/HandOnAI_1_Key/'"
      ],
      "metadata": {
        "id": "eaj0qWNAehzH"
      },
      "execution_count": null,
      "outputs": []
    },
    {
      "cell_type": "markdown",
      "source": [
        "# **III. **"
      ],
      "metadata": {
        "id": "xuYIBWyjeWzL"
      }
    },
    {
      "cell_type": "code",
      "source": [
        "!wget https://pjreddie.com/media/files/yolov3.weights"
      ],
      "metadata": {
        "id": "Df65zKIGgg90"
      },
      "execution_count": null,
      "outputs": []
    },
    {
      "cell_type": "code",
      "source": [
        "!python convert.py yolov3.cfg yolov3.weights model_data/yolo_weights.h5\n",
        "\n",
        "\"\"\"\n",
        "Patch keras_yolov3 convert.py\n",
        "\n",
        "DELETE : keras.layers.advanced_activations import LeakyReLU\n",
        "DELETE : from keras.layers.normalization import BatchNormalization\n",
        "ADD : keras.layers import LeakyReLU\n",
        "ADD : from keras.layers import BatchNormalization\n",
        "\"\"\""
      ],
      "metadata": {
        "id": "k8_Y_996gkwc"
      },
      "execution_count": null,
      "outputs": []
    },
    {
      "cell_type": "code",
      "source": [
        "!python train1.py --initial_epoch1 0 --epoch1 5 --batch_size1 64  --annotation 'annotations.csv' --classes 'model_data/key_classes.txt' --anchors 'model_data/yolo_anchors.txt' \n",
        "\n",
        "\"\"\"\n",
        "Patch keras_yolov3 train1.py\n",
        "\n",
        "DELETE : keras.layers.advanced_activations import LeakyReLU\n",
        "DELETE : from keras.layers.normalization import BatchNormalization\n",
        "ADD : keras.layers import LeakyReLU\n",
        "ADD : from keras.layers import BatchNormalization\n",
        "\"\"\""
      ],
      "metadata": {
        "id": "vKgeN1F_goKX",
        "outputId": "f9f8ffc8-ee45-46ba-edd3-f2083b33550b",
        "colab": {
          "base_uri": "https://localhost:8080/",
          "height": 157
        }
      },
      "execution_count": 32,
      "outputs": [
        {
          "output_type": "stream",
          "name": "stdout",
          "text": [
            "Traceback (most recent call last):\n",
            "  File \"train1.py\", line 12, in <module>\n",
            "    from yolo3.model import preprocess_true_boxes, yolo_body, tiny_yolo_body, yolo_loss \n",
            "  File \"/content/keras_yolov3/yolo3/model.py\", line 15, in <module>\n",
            "    tf.python_io.control_flow_ops = tf\n",
            "AttributeError: module 'tensorflow' has no attribute 'python_io'\n"
          ]
        },
        {
          "output_type": "execute_result",
          "data": {
            "text/plain": [
              "'\\nPatch keras_yolov3 train1.py\\n\\nDELETE : keras.layers.advanced_activations import LeakyReLU\\nDELETE : from keras.layers.normalization import BatchNormalization\\nADD : keras.layers import LeakyReLU\\nADD : from keras.layers import BatchNormalization\\n'"
            ],
            "application/vnd.google.colaboratory.intrinsic+json": {
              "type": "string"
            }
          },
          "metadata": {},
          "execution_count": 32
        }
      ]
    }
  ]
}