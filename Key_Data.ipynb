{
  "nbformat": 4,
  "nbformat_minor": 0,
  "metadata": {
    "colab": {
      "provenance": [],
      "authorship_tag": "ABX9TyOCb+XAfcOsZ9eQfs02d1G/",
      "include_colab_link": true
    },
    "kernelspec": {
      "name": "python3",
      "display_name": "Python 3"
    },
    "language_info": {
      "name": "python"
    }
  },
  "cells": [
    {
      "cell_type": "markdown",
      "metadata": {
        "id": "view-in-github",
        "colab_type": "text"
      },
      "source": [
        "<a href=\"https://colab.research.google.com/github/ValentinCord/HandOnAI_1/blob/main/Key_Data.ipynb\" target=\"_parent\"><img src=\"https://colab.research.google.com/assets/colab-badge.svg\" alt=\"Open In Colab\"/></a>"
      ]
    },
    {
      "cell_type": "markdown",
      "source": [
        "# **I. Merge backgrounds and keys**"
      ],
      "metadata": {
        "id": "50JuDEYHd3oC"
      }
    },
    {
      "cell_type": "code",
      "source": [
        "!/opt/bin/nvidia-smi\n",
        "!rm -rf sample_data"
      ],
      "metadata": {
        "id": "j2Cd98ZEZCp0"
      },
      "execution_count": null,
      "outputs": []
    },
    {
      "cell_type": "code",
      "execution_count": null,
      "metadata": {
        "id": "DWOk5dQuqv3D"
      },
      "outputs": [],
      "source": [
        "!git clone https://github.com/belarbi2733/keras_yolov3"
      ]
    },
    {
      "cell_type": "code",
      "source": [
        "!cd keras_yolov3/\n",
        "\n",
        "# Get des images de background et de clés détourées\n",
        "!wget https://github.com/belarbi2733/keras_yolov3/releases/download/1/key_wb.zip\n",
        "!wget https://github.com/belarbi2733/keras_yolov3/releases/download/1/bckgrnd.zip\n",
        "!unzip bckgrnd.zip \n",
        "!unzip key_wb.zip\n",
        "!rm bckgrnd.zip \n",
        "!rm key_wb.zip"
      ],
      "metadata": {
        "id": "amXNOMiBZJa5"
      },
      "execution_count": null,
      "outputs": []
    },
    {
      "cell_type": "code",
      "source": [
        "!rm -r keys_and_background\n",
        "\n",
        "# Fusion des backgrounds et des images de clés\n",
        "!python keys_with_background.py --keys 'key_wb' --background 'bckgrnd' --output 'keys_and_background'\n",
        "\n",
        "\"\"\" MODIFICATION DU CODE\n",
        "Patch keras_yolov3 keys_with_background.py\n",
        "\n",
        "DELETE : from keras.preprocessing import image\n",
        "ADD : from tensorflow.keras.utils import array_to_img \n",
        "CHANGE (296) : img = image.array_to_img(final) TO : img = array_to_img(final)\n",
        "\"\"\""
      ],
      "metadata": {
        "id": "snOq2wlQZnuY"
      },
      "execution_count": null,
      "outputs": []
    },
    {
      "cell_type": "markdown",
      "source": [
        "# **II. Store database on google.drive**"
      ],
      "metadata": {
        "id": "DPnm6sHdeG06"
      }
    },
    {
      "cell_type": "code",
      "source": [
        "from google.colab import drive\n",
        "drive.mount('/content/gdrive')"
      ],
      "metadata": {
        "id": "V4VXMVz2fEER"
      },
      "execution_count": null,
      "outputs": []
    },
    {
      "cell_type": "code",
      "source": [
        "!cp -av '/content/keras_yolov3/keys_and_background/' '/content/gdrive/MyDrive/HandOnAI_1_Key/'\n",
        "drive_data_folder = '/content/gdrive/MyDrive/HandOnAI_1_Key/'"
      ],
      "metadata": {
        "id": "hEiA4Tn8efrl"
      },
      "execution_count": null,
      "outputs": []
    }
  ]
}